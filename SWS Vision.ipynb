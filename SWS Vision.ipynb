{
 "cells": [
  {
   "cell_type": "code",
   "execution_count": 1,
   "id": "ba9b29ca",
   "metadata": {},
   "outputs": [],
   "source": [
    "# Importación de librerías\n",
    "import os\n",
    "import numpy as np\n",
    "import time\n",
    "import serial\n",
    "import cv2\n",
    "import tensorflow as tf\n",
    "from tensorflow.keras.models import load_model\n",
    "from tensorflow.keras.preprocessing import image"
   ]
  },
  {
   "cell_type": "code",
   "execution_count": 2,
   "id": "74251411",
   "metadata": {},
   "outputs": [],
   "source": [
    "categorias = ['vidrio', 'carton', 'metal', 'plastico']"
   ]
  },
  {
   "cell_type": "code",
   "execution_count": null,
   "id": "754a001e",
   "metadata": {},
   "outputs": [],
   "source": [
    "# Importación del modelo\n",
    "modelo = load_model('modelo.h5')"
   ]
  },
  {
   "cell_type": "code",
   "execution_count": null,
   "id": "8a40eb8c",
   "metadata": {},
   "outputs": [],
   "source": [
    "# Prueba con imagen\n",
    "# Carga y procesamiento de la imagen\n",
    "ruta_imagen = '4Clases/class_0/brown-glass1.jpg'\n",
    "imagen = image.load_img(ruta_imagen, target_size=(32, 32))\n",
    "imagen_arreglo = image.img_to_array(imagen)\n",
    "imagen_arreglo = np.expand_dims(imagen_arreglo, axis=0)\n",
    "imagen_arreglo /= 255.0\n",
    "\n",
    "# Predicción\n",
    "prediccion = modelo.predict(imagen_arreglo)\n",
    "categoria = np.argmax(prediccion)\n",
    "\n",
    "print(\"Probabilidades por categoría: \")\n",
    "for categoria, probabilidad in enumerate(prediccion):\n",
    "    print(f\"{categorias[categoria]}: {probabilidad}\")\n",
    "\n",
    "print(f'\\nLa categoría es: {categorias[categoria]}[{categoria}] con una probabilidad de {np.max(prediccion):.5f}')"
   ]
  },
  {
   "cell_type": "markdown",
   "id": "884619ad",
   "metadata": {},
   "source": [
    "# Visión por computadora"
   ]
  },
  {
   "cell_type": "code",
   "execution_count": null,
   "id": "69e1f49f",
   "metadata": {},
   "outputs": [],
   "source": [
    "# Crear las carpetas de clasificación si no existen\n",
    "for categoria in categorias:\n",
    "    if not os.path.exists(categoria):\n",
    "        os.makedirs(categoria)"
   ]
  },
  {
   "cell_type": "code",
   "execution_count": null,
   "id": "e54def14",
   "metadata": {},
   "outputs": [],
   "source": [
    "# Obtener el tiempo actual (en milisegundos)\n",
    "def tiempo():\n",
    "    return int(round(time.time() * 1000))"
   ]
  },
  {
   "cell_type": "code",
   "execution_count": 6,
   "id": "d6cd2c88",
   "metadata": {},
   "outputs": [
    {
     "name": "stderr",
     "output_type": "stream",
     "text": [
      "WARNING:absl:Compiled the loaded model, but the compiled metrics have yet to be built. `model.compile_metrics` will be empty until you train or evaluate the model.\n",
      "WARNING:absl:Error in loading the saved optimizer state. As a result, your model is starting with a freshly initialized optimizer.\n"
     ]
    },
    {
     "name": "stdout",
     "output_type": "stream",
     "text": [
      "..Conexión exitosa a ThingsBoard\n",
      "\n",
      " Conectado\n",
      "Mensaje: Rancés - 000444\n",
      "\n",
      "1\n",
      "\u001b[1m1/1\u001b[0m \u001b[32m━━━━━━━━━━━━━━━━━━━━\u001b[0m\u001b[37m\u001b[0m \u001b[1m1s\u001b[0m 579ms/step\n",
      "Predicción: [[0.8816516  0.00418125 0.00423634 0.10993085]]\n",
      "Mensaje: Rancés - 000333\n",
      "\n",
      "1\n",
      "\u001b[1m1/1\u001b[0m \u001b[32m━━━━━━━━━━━━━━━━━━━━\u001b[0m\u001b[37m\u001b[0m \u001b[1m0s\u001b[0m 29ms/step\n",
      "Predicción: [[9.9997759e-01 3.0629570e-07 8.9716332e-07 2.1209466e-05]]\n",
      "Mensaje: Rancés - 000444\n",
      "\n",
      "1\n",
      "\u001b[1m1/1\u001b[0m \u001b[32m━━━━━━━━━━━━━━━━━━━━\u001b[0m\u001b[37m\u001b[0m \u001b[1m0s\u001b[0m 26ms/step\n",
      "Predicción: [[9.9456006e-01 1.3135598e-05 8.1707221e-06 5.4185903e-03]]\n"
     ]
    }
   ],
   "source": [
    "# Conexión conexión con el puerto serial\n",
    "COM = 'COM13'\n",
    "BAUD = '115200'\n",
    "ser = serial.Serial(COM, BAUD)\n",
    "\n",
    "# Registro de imágenes\n",
    "contador_imagenes = {categoria: 0 for categoria in categorias}\n",
    "\n",
    "# Umbral de probabilidad máxima\n",
    "umbral_probabilidad = 0.9\n",
    "\n",
    "# Obtener el tiempo actual\n",
    "ultima_clasificacion = tiempo()\n",
    "\n",
    "# Inicializar la captura de video (0 para la cámara por defecto)\n",
    "camara = cv2.VideoCapture(0)\n",
    "\n",
    "# Proceso de clasificación\n",
    "while True:\n",
    "\n",
    "    # Comprobar si hay datos en espera\n",
    "    if ser.in_waiting == 0:\n",
    "        continue\n",
    "\n",
    "    # Leer el dato del puerto serial\n",
    "    dato = ser.readline().decode('utf-8').rstrip()\n",
    "    print(dato)\n",
    "\n",
    "    if dato != \"1\":\n",
    "        continue\n",
    "\n",
    "    # Conectar con la cámara\n",
    "    retorno, frame = camara.read()\n",
    "\n",
    "    # Verificar si el frame fue capturado correctamente\n",
    "    if not retorno:\n",
    "        break\n",
    "\n",
    "    # Preprocesar el frame\n",
    "    imagen = cv2.resize(frame, (32, 32))                # Ajustar el tamaño según lo que espera tu modelo\n",
    "    imagen_arreglo = np.expand_dims(imagen, axis=0)     # Expandir las dimensiones\n",
    "    imagen_arreglo = imagen_arreglo / 255.0             # Normalizar la imagen si es necesario\n",
    "\n",
    "    # Comprobar si han pasado 5 segundos desde la última clasificación\n",
    "    if (tiempo() - ultima_clasificacion) > 5000:\n",
    "        \n",
    "        # Hacer la predicción\n",
    "        prediccion = modelo.predict(imagen_arreglo)\n",
    "        categoria = np.argmax(prediccion)\n",
    "        probabilidad_maxima = np.max(prediccion)\n",
    "        ultima_clasificacion = tiempo()\n",
    "\n",
    "        nombre_categoria = categorias[categoria]\n",
    "\n",
    "        # Verificar si la probabilidad máxima supera el umbral\n",
    "        if probabilidad_maxima >= umbral_probabilidad:\n",
    "            # Guardar la imagen en la carpeta correspondiente\n",
    "            contador_imagenes[nombre_categoria] += 1\n",
    "            nombre_imagen = f\"{nombre_categoria}_{contador_imagenes[nombre_categoria]}.png\"\n",
    "            ruta_imagen = os.path.join(nombre_categoria, nombre_imagen)\n",
    "            # Guardar la imagen original (frame)\n",
    "            cv2.imwrite(ruta_imagen, frame)\n",
    "\n",
    "        ser.write(f'%{categoria};\\n'.encode())\n",
    "    \n",
    "    cv2.putText(frame, f'Categoria: {categorias[categoria]}[{categoria}]', (10, 30), cv2.FONT_HERSHEY_SIMPLEX, 1, (0, 255, 0), 2, cv2.LINE_AA)\n",
    "    cv2.putText(frame, f'Precisión: {probabilidad_maxima}', (10, 50), cv2.FONT_HERSHEY_SIMPLEX, 0.5, (0, 255, 0), 2, cv2.LINE_AA)\n",
    "    cv2.imshow('NeuroEcoWaste Solutions', frame)\n",
    "    print(f'Predicción: {prediccion}')\n",
    "\n",
    "    # Romper el loop con la tecla 'q' o el num 1\n",
    "    if cv2.waitKey(1) & 0xFF == ord('q'):\n",
    "        break\n",
    "\n",
    "camara.release()\n",
    "cv2.destroyAllWindows()\n"
   ]
  }
 ],
 "metadata": {
  "kernelspec": {
   "display_name": "Python 3 (ipykernel)",
   "language": "python",
   "name": "python3"
  },
  "language_info": {
   "codemirror_mode": {
    "name": "ipython",
    "version": 3
   },
   "file_extension": ".py",
   "mimetype": "text/x-python",
   "name": "python",
   "nbconvert_exporter": "python",
   "pygments_lexer": "ipython3",
   "version": "3.11.5"
  }
 },
 "nbformat": 4,
 "nbformat_minor": 5
}
